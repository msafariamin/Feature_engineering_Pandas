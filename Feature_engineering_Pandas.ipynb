{
 "cells": [
  {
   "cell_type": "markdown",
   "metadata": {},
   "source": [
    "« Feature engineering » ou  « Ingénierie des caractéristiques » en français, se résume par créer des caractéristiques à partir des données.\n",
    "Voici comment nous allons l’appliquer en Python en utilisant le Pandas.\n",
    "\n",
    "importer les bibliothèques Numpy et Pandas :\n"
   ]
  },
  {
   "cell_type": "code",
   "execution_count": 1,
   "metadata": {},
   "outputs": [],
   "source": [
    "import pandas as pd\n",
    "import numpy as np"
   ]
  },
  {
   "cell_type": "markdown",
   "metadata": {},
   "source": [
    "Importer un dataset (ici sous format de ‘csv’ et en fonction du chemin de votre fichier enregistré) :"
   ]
  },
  {
   "cell_type": "code",
   "execution_count": 2,
   "metadata": {},
   "outputs": [],
   "source": [
    "df=pd.read_csv('../DATA/employee_reviews.csv')\n",
    "df.head()"
   ]
  },
  {
   "cell_type": "markdown",
   "metadata": {},
   "source": [
    ".head() est pour afficher que les cinq premier éléments."
   ]
  },
  {
   "cell_type": "markdown",
   "metadata": {},
   "source": [
    "Nous allons nettoyer dans le premier temps notre Dataset en commençant par supprimer les colonnes inutiles du DataFrame à l’aides des bibliothèques Pandas en Python."
   ]
  },
  {
   "cell_type": "code",
   "execution_count": 3,
   "metadata": {},
   "outputs": [],
   "source": [
    "df = df.drop(df.columns[[0,2,5,6,7,8,10,11,12,13,14,15,16]], axis=1)\n",
    "# une autre méthode pour choisir les colonnes par leurs position est :\n",
    "# Or df = df.iloc[:,np.r_[1,3,4,9]]"
   ]
  },
  {
   "cell_type": "markdown",
   "metadata": {},
   "source": [
    "Une de nos principales colonnes est sous forme de string avec plusieurs mots qui nous intéresse pas. Nous allons appliquer la méthode split string pour séparer les mots et puis garder une seule colonne. "
   ]
  },
  {
   "cell_type": "code",
   "execution_count": 4,
   "metadata": {},
   "outputs": [],
   "source": [
    "# Séparer les mots de la colonne 'job-title'\n",
    "jt = df['job-title'].str.split(expand=True)\n",
    "\n",
    "# garder la colonne desirée avec la méthode loc :\n",
    "employee = jt.loc[:,0]\n",
    "\n",
    "# rajouter cette colonne à notre DataFrame.\n",
    "df.join(employee)\n",
    "\n",
    "# renommer la nouvelle colonne.\n",
    "df2=df.join(employee).rename(columns={0:'employee'})\n",
    "\n",
    "# effacer la colonne avec plusieurs mots, car nous n’avons plus besoin de cette colonne depuis la création d’une nouvelle colonne avec les données utils.\n",
    "df3=df2.drop(df2.columns[2], axis = 1)"
   ]
  },
  {
   "cell_type": "markdown",
   "metadata": {},
   "source": [
    "si vous voulez déplacer vos colonnes où vous voulez, la méthode ‘Vectorized operations’ peut être très utiles. "
   ]
  },
  {
   "cell_type": "code",
   "execution_count": 5,
   "metadata": {},
   "outputs": [],
   "source": [
    "cols = list(df3.columns)\n",
    "cols = [cols[0]] + [cols[-1]] + cols[1:-1]\n",
    "print(cols)"
   ]
  },
  {
   "cell_type": "markdown",
   "metadata": {},
   "source": [
    "Pour montrer les résultats sur un plot, nous allons importer les librairies nécessaires."
   ]
  },
  {
   "cell_type": "code",
   "execution_count": 6,
   "metadata": {},
   "outputs": [],
   "source": [
    "import seaborn as sns\n",
    "import matplotlib.pyplot as plt\n",
    "%matplotlib inline\n",
    "\n",
    "# nous avons que des colonnes avec type string pour tracer un courbe. Il faut donc convertir une des colonnes de type string à numérique.\n",
    "employee_coder={'Former':0, 'Current':1}\n",
    "\n",
    "# rajouter la colonne créer par des types numériques au DataFrame\n",
    "employee_encoder= df3['employee'].map(employee_coder)\n",
    "\n",
    "# comptez maintenant le nombre d’employés qui ont quitté les entreprises.\n",
    "left = df[df.employee_encoder==0]['company'].value_counts()\n",
    "\n",
    "# comptez maintenant le nombre d’employés qui ont resté les entreprises.\n",
    "stayed = df[df.employee_encoder==1]['company'].value_counts()\n",
    "\n",
    "# créer un DataFrame qui regroupe tous dans la même table.\n",
    "Emp_pos = pd.DataFrame([left,stayed], index =['Current', 'Former'])\n",
    "\n",
    "Emp_pos.plot(kind='bar')\n",
    "plt.title('Employee satisfaction')\n",
    "plt.xlabel('Employee position')\n",
    "plt.ylabel('Employee number')"
   ]
  }
 ],
 "metadata": {
  "kernelspec": {
   "display_name": "Python 3",
   "language": "python",
   "name": "python3"
  },
  "language_info": {
   "codemirror_mode": {
    "name": "ipython",
    "version": 3
   },
   "file_extension": ".py",
   "mimetype": "text/x-python",
   "name": "python",
   "nbconvert_exporter": "python",
   "pygments_lexer": "ipython3",
   "version": "3.7.3"
  }
 },
 "nbformat": 4,
 "nbformat_minor": 2
}
